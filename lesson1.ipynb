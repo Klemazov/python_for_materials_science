{
 "cells": [
  {
   "cell_type": "markdown",
   "id": "55bfd189-46d6-4806-9cd8-2a91c1bfc35e",
   "metadata": {
    "tags": []
   },
   "source": [
    "# Введение \n",
    "Python  — высокоуровневый язык программирования общего назначения\n",
    "\n",
    "Python является мультипарадигмальным языком программирования, поддерживающим императивное, процедурное, структурное, объектно-ориентированное программирование, метапрограммирование и функциональное программирование\n",
    "## Очень полезные ссылки\n",
    "\n",
    "[Научные вычисления на питоне](https://ru.wikiversity.org/wiki/%D0%9F%D1%80%D0%BE%D0%B3%D1%80%D0%B0%D0%BC%D0%BC%D0%B8%D1%80%D0%BE%D0%B2%D0%B0%D0%BD%D0%B8%D0%B5_%D0%B8_%D0%BD%D0%B0%D1%83%D1%87%D0%BD%D1%8B%D0%B5_%D0%B2%D1%8B%D1%87%D0%B8%D1%81%D0%BB%D0%B5%D0%BD%D0%B8%D1%8F_%D0%BD%D0%B0_%D1%8F%D0%B7%D1%8B%D0%BA%D0%B5_Python)\n",
    "\n",
    "[сайт сайпая](https://www.scipy.org)\n",
    "\n",
    "\n",
    "# Структура курса\n",
    "- Основы языка \n",
    "    - hello world\n",
    "    - некоторые типы данных\n",
    "    - циклы\n",
    "    - функции\n",
    "    - немного про ООП \n",
    "- чтение внешних данных (ASCII итд)\n",
    "- построение графиков (модуль matplotlib)\n",
    "- работа с библиотекой numpy\n",
    "- работа с библиотекой scipy \n",
    "- GUI (pyQT или tkinter)\n",
    "- работа с железом (?)"
   ]
  },
  {
   "cell_type": "markdown",
   "id": "a5046625-80bd-47cc-8f91-a42a5de68c98",
   "metadata": {},
   "source": [
    "<table class=\"wikitable\">\n",
    "<caption>Типы, используемые в Python\n",
    "</caption>\n",
    "<tbody><tr>\n",
    "<th>Тип\n",
    "</th>\n",
    "<th><a href=\"/wiki/%D0%9D%D0%B5%D0%B8%D0%B7%D0%BC%D0%B5%D0%BD%D1%8F%D0%B5%D0%BC%D1%8B%D0%B9_%D0%BE%D0%B1%D1%8A%D0%B5%D0%BA%D1%82\" title=\"Неизменяемый объект\">Изменяемость</a>\n",
    "</th>\n",
    "<th>Описание\n",
    "</th>\n",
    "<th style=\"width: 23em;\">Примеры\n",
    "</th></tr>\n",
    "<tr>\n",
    "<td><code>bool</code>\n",
    "</td>\n",
    "<td>Неизменяемый\n",
    "</td>\n",
    "<td><a href=\"/wiki/%D0%9B%D0%BE%D0%B3%D0%B8%D1%87%D0%B5%D1%81%D0%BA%D0%B8%D0%B9_%D1%82%D0%B8%D0%BF\" title=\"Логический тип\">Логический тип</a>\n",
    "</td>\n",
    "<td><code>True</code><br /><code>False</code>\n",
    "</td></tr>\n",
    "<tr>\n",
    "<td><code>bytearray</code>\n",
    "</td>\n",
    "<td>Изменяемый\n",
    "</td>\n",
    "<td>Массив байтов\n",
    "</td>\n",
    "<td><code>bytearray(b'Some ASCII')</code><br /><code>bytearray(b\"Some ASCII\")</code><br /><code>bytearray([119, 105, 107, 105])</code>\n",
    "</td></tr>\n",
    "<tr>\n",
    "<td><code>bytes</code>\n",
    "</td>\n",
    "<td>Неизменяемый\n",
    "</td>\n",
    "<td>Массив байтов\n",
    "</td>\n",
    "<td><code>b'Some ASCII'</code><br /><code>b\"Some ASCII\"</code><br /><code>bytes([119, 105, 107, 105])</code>\n",
    "</td></tr>\n",
    "<tr>\n",
    "<td><code>complex</code>\n",
    "</td>\n",
    "<td>Неизменяемый\n",
    "</td>\n",
    "<td><a href=\"/wiki/%D0%9A%D0%BE%D0%BC%D0%BF%D0%BB%D0%B5%D0%BA%D1%81%D0%BD%D0%BE%D0%B5_%D1%87%D0%B8%D1%81%D0%BB%D0%BE\" title=\"Комплексное число\">Комплексное число</a>\n",
    "</td>\n",
    "<td><code>3+2.7j</code>\n",
    "</td></tr>\n",
    "<tr>\n",
    "<td><code>dict</code>\n",
    "</td>\n",
    "<td>Изменяемый\n",
    "</td>\n",
    "<td>Словарь (<a href=\"/wiki/%D0%90%D1%81%D1%81%D0%BE%D1%86%D0%B8%D0%B0%D1%82%D0%B8%D0%B2%D0%BD%D1%8B%D0%B9_%D0%BC%D0%B0%D1%81%D1%81%D0%B8%D0%B2\" title=\"Ассоциативный массив\">ассоциативный массив</a>), представляет собой коллекцию пар «ключ—значение»; значение может быть любого типа, ключ должен иметь хешируемый тип\n",
    "</td>\n",
    "<td><code>{'key1': 1.0, 3: False} </code><br /><code>{} </code>\n",
    "</td></tr>\n",
    "<tr>\n",
    "<td><code>ellipsis</code><sup id=\"cite_ref-П_67-0\" class=\"reference\"><a href=\"#cite_note-П-67\">&#91;К 1&#93;</a></sup>\n",
    "</td>\n",
    "<td>Неизменяемый\n",
    "</td>\n",
    "<td><span data-interwiki-lang=\"en\" data-interwiki-article=\"Ellipsis (computer programming)\"><a href=\"/w/index.php?title=%D0%9C%D0%BD%D0%BE%D0%B3%D0%BE%D1%82%D0%BE%D1%87%D0%B8%D0%B5_(%D0%BF%D1%80%D0%BE%D0%B3%D1%80%D0%B0%D0%BC%D0%BC%D0%B8%D1%80%D0%BE%D0%B2%D0%B0%D0%BD%D0%B8%D0%B5)&amp;action=edit&amp;redlink=1\" class=\"new\" title=\"Многоточие (программирование) (страница отсутствует)\">Многоточие</a></span><span style=\"font-style:normal; font-weight:normal;\"><sup class=\"noprint\"><a href=\"https://en.wikipedia.org/wiki/Ellipsis_(computer_programming)\" class=\"extiw\" title=\"en:Ellipsis (computer programming)\"><span title=\"Ellipsis (computer programming) — версия статьи «Многоточие (программирование)» на английском языке\">[en]</span></a></sup></span> (элипсис). Используется в основном в <a href=\"/wiki/NumPy\" title=\"NumPy\">NumPy</a> для сокращённого задания среза многомерного массива. В самом Python присутствует для поддержки пользовательских типов и таких расширений, как NumPy<sup id=\"cite_ref-_c8966e1f9acc8d77_68-0\" class=\"reference\"><a href=\"#cite_note-_c8966e1f9acc8d77-68\">&#91;67&#93;</a></sup>\n",
    "</td>\n",
    "<td><code>...</code><br /><code>Ellipsis</code><br />Для <a href=\"/wiki/NumPy\" title=\"NumPy\">NumPy</a>: <br /><code>x[i, ..., j]</code>,<br /> что эквивалентно<br /><code>x[i,&#160;:,&#160;:, j]</code><sup id=\"cite_ref-_c8966e1f9acc8d77_68-1\" class=\"reference\"><a href=\"#cite_note-_c8966e1f9acc8d77-68\">&#91;67&#93;</a></sup>\n",
    "</td></tr>\n",
    "<tr>\n",
    "<td><code>float</code>\n",
    "</td>\n",
    "<td>Неизменяемый\n",
    "</td>\n",
    "<td><a href=\"/wiki/%D0%A7%D0%B8%D1%81%D0%BB%D0%BE_%D1%81_%D0%BF%D0%BB%D0%B0%D0%B2%D0%B0%D1%8E%D1%89%D0%B5%D0%B9_%D0%B7%D0%B0%D0%BF%D1%8F%D1%82%D0%BE%D0%B9\" title=\"Число с плавающей запятой\">Число с плавающей запятой</a>. Степень точности зависит от платформы, но на практике обычно реализуется в виде 64-битного 53-разрядного числа<sup id=\"cite_ref-69\" class=\"reference\"><a href=\"#cite_note-69\">&#91;68&#93;</a></sup>\n",
    "</td>\n",
    "<td>\n",
    "<p><code>1.414</code>\n",
    "</p>\n",
    "</td></tr>\n",
    "<tr>\n",
    "<td><code>frozenset</code>\n",
    "</td>\n",
    "<td>Неизменяемый\n",
    "</td>\n",
    "<td>Неупорядочное <a href=\"/wiki/%D0%9C%D0%BD%D0%BE%D0%B6%D0%B5%D1%81%D1%82%D0%B2%D0%BE_(%D1%82%D0%B8%D0%BF_%D0%B4%D0%B0%D0%BD%D0%BD%D1%8B%D1%85)\" title=\"Множество (тип данных)\">множество</a>, не содержит дубликатов; может содержать внутри себя различные хешируемые типы данных\n",
    "</td>\n",
    "<td><code>frozenset([4.0, 'string', True])</code>\n",
    "</td></tr>\n",
    "<tr>\n",
    "<td><code>int</code>\n",
    "</td>\n",
    "<td>Неизменяемый\n",
    "</td>\n",
    "<td><a href=\"/wiki/%D0%9C%D0%BD%D0%BE%D0%B6%D0%B5%D1%81%D1%82%D0%B2%D0%BE_(%D1%82%D0%B8%D0%BF_%D0%B4%D0%B0%D0%BD%D0%BD%D1%8B%D1%85)\" title=\"Множество (тип данных)\">Целое число</a> неограниченного размера<sup id=\"cite_ref-pep0237_70-0\" class=\"reference\"><a href=\"#cite_note-pep0237-70\">&#91;69&#93;</a></sup>\n",
    "</td>\n",
    "<td><code>42</code>\n",
    "</td></tr>\n",
    "<tr>\n",
    "<td><code>list</code>\n",
    "</td>\n",
    "<td>Изменяемый\n",
    "</td>\n",
    "<td><a href=\"/wiki/%D0%A1%D0%BF%D0%B8%D1%81%D0%BE%D0%BA_(%D0%B8%D0%BD%D1%84%D0%BE%D1%80%D0%BC%D0%B0%D1%82%D0%B8%D0%BA%D0%B0)\" title=\"Список (информатика)\">Список</a>, может содержать внутри себя различные типы данных\n",
    "</td>\n",
    "<td><code>[4.0, 'string', True]</code><br /><code>[]</code>\n",
    "</td></tr>\n",
    "<tr>\n",
    "<td><code>NoneType</code><sup id=\"cite_ref-П_67-1\" class=\"reference\"><a href=\"#cite_note-П-67\">&#91;К 1&#93;</a></sup>\n",
    "</td>\n",
    "<td>Неизменяемый\n",
    "</td>\n",
    "<td>Объект, представляющий собой отсутствие значения, часто называемый <span data-interwiki-lang=\"en\" data-interwiki-article=\"Null pointer\"><a href=\"/w/index.php?title=Null_(%D0%BF%D1%80%D0%BE%D0%B3%D1%80%D0%B0%D0%BC%D0%BC%D0%B8%D1%80%D0%BE%D0%B2%D0%B0%D0%BD%D0%B8%D0%B5)&amp;action=edit&amp;redlink=1\" class=\"new\" title=\"Null (программирование) (страница отсутствует)\">Null</a></span><span style=\"font-style:normal; font-weight:normal;\"><sup class=\"noprint\"><a href=\"https://en.wikipedia.org/wiki/Null_pointer\" class=\"extiw\" title=\"en:Null pointer\"><span title=\"Null pointer — версия статьи «Null (программирование)» на английском языке\">[en]</span></a></sup></span> в других языках.\n",
    "</td>\n",
    "<td><code>None</code>\n",
    "</td></tr>\n",
    "<tr>\n",
    "<td><code>NotImplementedType</code><sup id=\"cite_ref-П_67-2\" class=\"reference\"><a href=\"#cite_note-П-67\">&#91;К 1&#93;</a></sup>\n",
    "</td>\n",
    "<td>Неизменяемый\n",
    "</td>\n",
    "<td>Объект, который возвращается при <a href=\"/wiki/%D0%9F%D0%B5%D1%80%D0%B5%D0%B3%D1%80%D1%83%D0%B7%D0%BA%D0%B0_%D0%BE%D0%BF%D0%B5%D1%80%D0%B0%D1%82%D0%BE%D1%80%D0%BE%D0%B2\" title=\"Перегрузка операторов\">перегрузке операторов</a>, когда типы операндов не поддерживаются.\n",
    "</td>\n",
    "<td><code>NotImplemented</code>\n",
    "</td></tr>\n",
    "<tr>\n",
    "<td><code>range</code>\n",
    "</td>\n",
    "<td>Неизменяемый\n",
    "</td>\n",
    "<td>Последовательность целых чисел от какого-то одного значения до другого, обычно используется для повторения операции несколько раз при помощи for<sup id=\"cite_ref-71\" class=\"reference\"><a href=\"#cite_note-71\">&#91;70&#93;</a></sup>\n",
    "</td>\n",
    "<td><code>range(1, 10)</code><br /><code>range(10, -5, -2)</code>\n",
    "</td></tr>\n",
    "<tr>\n",
    "<td><code>set</code>\n",
    "</td>\n",
    "<td>Изменяемый\n",
    "</td>\n",
    "<td>Неупорядочное <a href=\"/wiki/%D0%9C%D0%BD%D0%BE%D0%B6%D0%B5%D1%81%D1%82%D0%B2%D0%BE_(%D1%82%D0%B8%D0%BF_%D0%B4%D0%B0%D0%BD%D0%BD%D1%8B%D1%85)\" title=\"Множество (тип данных)\">множество</a>, не содержит дубликатов; может содержать внутри себя различные хешируемые типы данных\n",
    "</td>\n",
    "<td><code>{4.0, 'string', True} </code><br /><code>set()</code>\n",
    "</td></tr>\n",
    "<tr>\n",
    "<td><code>str</code>\n",
    "</td>\n",
    "<td>Неизменяемый\n",
    "</td>\n",
    "<td><a href=\"/wiki/%D0%A1%D1%82%D1%80%D0%BE%D0%BA%D0%BE%D0%B2%D1%8B%D0%B9_%D1%82%D0%B8%D0%BF\" title=\"Строковый тип\">Строковый тип</a>\n",
    "</td>\n",
    "<td><code>'Wikipedia'</code><br /><code>\"Wikipedia\"</code><br /><div class=\"mw-highlight mw-highlight-lang-python mw-content-ltr\" dir=\"ltr\"><pre><span></span><span class=\"sd\">&quot;&quot;&quot;Spanning</span>\n",
    "<span class=\"sd\">multiple</span>\n",
    "<span class=\"sd\">lines&quot;&quot;&quot;</span>\n",
    "</pre></div>\n",
    "</td></tr>\n",
    "<tr>\n",
    "<td><code>tuple</code>\n",
    "</td>\n",
    "<td>Неизменяемый\n",
    "</td>\n",
    "<td><a href=\"/wiki/%D0%9A%D0%BE%D1%80%D1%82%D0%B5%D0%B6_(%D0%B8%D0%BD%D1%84%D0%BE%D1%80%D0%BC%D0%B0%D1%82%D0%B8%D0%BA%D0%B0)\" title=\"Кортеж (информатика)\">Кортеж</a>. Может содержать внутри себя различные типы данных. Может использоваться в качестве неизменяемого списка и в качестве записей с неименованными полями<sup id=\"cite_ref-_431583ef41e1cbf2_72-0\" class=\"reference\"><a href=\"#cite_note-_431583ef41e1cbf2-72\">&#91;71&#93;</a></sup>\n",
    "</td>\n",
    "<td>В качестве неизменяемого списка: <br /><code>(4.0, 'string', True)</code><br /><code>('single element',)</code><br /><code>()</code><br />В качестве записей:<br /><code>lax_coordinates = (33.9425, -118.408056)</code> <br /><code>city, year, pop, chg, area = ('Tokyo', 2003, 32450, 0.66, 8014)</code><sup id=\"cite_ref-_431583ef41e1cbf2_72-1\" class=\"reference\"><a href=\"#cite_note-_431583ef41e1cbf2-72\">&#91;71&#93;</a></sup>\n",
    "</td></tr></tbody></table>"
   ]
  },
  {
   "cell_type": "markdown",
   "id": "c50e2f58-2719-4487-b3d2-515fbc36917b",
   "metadata": {},
   "source": [
    "# HELLO WORLD"
   ]
  },
  {
   "cell_type": "code",
   "execution_count": 6,
   "id": "d1d4f018-8b9b-40d0-bbc8-226cbe10df6c",
   "metadata": {},
   "outputs": [
    {
     "data": {
      "text/plain": [
       "'strstrstrstrstrstrstrstrstrstrstrstrstrstrstrstrstrstrstrstrstrstrstrstrstrstrstrstrstrstrstrstrstrstr'"
      ]
     },
     "execution_count": 6,
     "metadata": {},
     "output_type": "execute_result"
    }
   ],
   "source": [
    "'str'*34"
   ]
  },
  {
   "cell_type": "markdown",
   "id": "b87770b3-7618-4633-b47e-b5d01894bcec",
   "metadata": {},
   "source": [
    "# Про переменные \n",
    "Нет необходимости объявлять переменные в начале программы (как например в языках Паскаль, Фортран)"
   ]
  },
  {
   "cell_type": "markdown",
   "id": "90c182f0-5b50-4f4a-944e-07b5cc978c13",
   "metadata": {},
   "source": [
    "a <=5 буква а это ярлык (метка) для переменной \n",
    "\n",
    "в языках типа \"Фортран\" для переменной резервируется место в памяти, а затем мы задаем значение переменной. В питоне это наоборот "
   ]
  },
  {
   "cell_type": "code",
   "execution_count": 20,
   "id": "6253f3c8-d602-4af9-a028-4476e7414d4e",
   "metadata": {},
   "outputs": [
    {
     "data": {
      "text/plain": [
       "True"
      ]
     },
     "execution_count": 20,
     "metadata": {},
     "output_type": "execute_result"
    }
   ],
   "source": [
    "a = 5 # цифре пять мы присвоили метку а \n",
    "b = a  # метка b ссылается на метку а. Далее рекурентно идет поиск до значения 5 \n",
    "a is b #проверяем один и тот же это объект\n"
   ]
  },
  {
   "cell_type": "markdown",
   "id": "f5289a7f-dbde-429a-883b-630d32908815",
   "metadata": {},
   "source": [
    "# Чтобы проверить тип переменной пишем type(название переменной)"
   ]
  },
  {
   "cell_type": "code",
   "execution_count": 3,
   "id": "8e4331cc-1fdd-4c3e-be68-8f8aa79032f0",
   "metadata": {},
   "outputs": [
    {
     "name": "stdout",
     "output_type": "stream",
     "text": [
      "<class 'int'>\n",
      "<class 'str'>\n"
     ]
    }
   ],
   "source": [
    "a = 5\n",
    "print(type(a))\n",
    "a = 'a'\n",
    "print(type(a))\n"
   ]
  },
  {
   "cell_type": "markdown",
   "id": "7263e3ba-21a9-4181-ae28-8282955590ae",
   "metadata": {},
   "source": [
    "# Из-за того, что у нас используется система меток, а не классическое выделение памяти под переменную, мы можем быстро переопределять переменные"
   ]
  },
  {
   "cell_type": "markdown",
   "id": "1bd77a16-10b7-4e8d-bac9-fbf32fa26e5c",
   "metadata": {},
   "source": [
    "# Массивы "
   ]
  },
  {
   "cell_type": "code",
   "execution_count": 7,
   "id": "137622da-b43e-45b3-8f76-e3f959910e6f",
   "metadata": {},
   "outputs": [],
   "source": [
    "a  = [1, 2 ,3 ]"
   ]
  },
  {
   "cell_type": "code",
   "execution_count": 8,
   "id": "ab2307c1-d1e2-40dd-8ac9-0e7193ba716e",
   "metadata": {},
   "outputs": [
    {
     "name": "stdout",
     "output_type": "stream",
     "text": [
      "теперь а это массив! a =  [1, 2, 3]\n"
     ]
    }
   ],
   "source": [
    "print ('теперь а это массив! a = ', a)"
   ]
  },
  {
   "cell_type": "markdown",
   "id": "47c1af74-676b-4acc-9b1e-551d6cee9441",
   "metadata": {},
   "source": [
    "# Про операции с переменными "
   ]
  },
  {
   "cell_type": "code",
   "execution_count": 2,
   "id": "d4d0e2aa-354b-4737-9b99-936de6dd5da0",
   "metadata": {},
   "outputs": [
    {
     "name": "stdout",
     "output_type": "stream",
     "text": [
      "8\n",
      "15\n",
      "0.6\n"
     ]
    }
   ],
   "source": [
    "a = 5 \n",
    "b = 3\n",
    "print (a+b)\n",
    "print (a*b)\n",
    "print (b/a)"
   ]
  },
  {
   "cell_type": "code",
   "execution_count": 3,
   "id": "ba9c2d6f-2d3a-4906-a480-c94d3399eb98",
   "metadata": {},
   "outputs": [
    {
     "data": {
      "text/plain": [
       "1911012597945477520356404559703964599198081048990094337139512789246520530242615803012059386519739850265586440155794462235359212788673806972288410146915986602087961896757195701839281660338047611225975533626101001482651123413147768252411493094447176965282756285196737514395357542479093219206641883011787169122552421070050709064674382870851449950256586194461543183511379849133691779928127433840431549236855526783596374102105331546031353725325748636909159778690328266459182983815230286936572873691422648131291743762136325730321645282979486862576245362218017673224940567642819360078720713837072355305446356153946401185348493792719514594505508232749221605848912910945189959948686199543147666938013037176163592594479746164220050885079469804487133205133160739134230540198872570038329801246050197013467397175909027389493923817315786996845899794781068042822436093783946335265422815704302832442385515082316490967285712171708123232790481817268327510112746782317410985888683708522000711733492253913322300756147180429007527677793352306200618286012455254243061006894805446584704820650982664319360960388736258510747074340636286976576702699258649953557976318173902550891331223294743930343956161328334072831663498258145226862004307799084688103804187368324800903873596212919633602583120781673673742533322879296907205490595621406888825991244581842379597863476484315673760923625090371511798941424262270220066286486867868710182980872802560693101949280830825044198424796792058908817112327192301455582916746795197430548026404646854002733993860798594465961501752586965811447568510041568687730903712482535343839285397598749458497050038225012489284001826590056251286187629938044407340142347062055785305325034918189589707199305662188512963187501743535960282201038211616048545121039313312256332260766436236688296850208839496142830484739113991669622649948563685234712873294796680884509405893951104650944137909502276545653133018670633521323028460519434381399810561400652595300731790772711065783494174642684720956134647327748584238274899668755052504394218232191357223054066715373374248543645663782045701654593218154053548393614250664498585403307466468541890148134347714650315037954175778622811776585876941680908203125"
      ]
     },
     "execution_count": 3,
     "metadata": {},
     "output_type": "execute_result"
    }
   ],
   "source": [
    "# нет лимита по памяти на целоцисленные вычисления \n",
    "a**a**a"
   ]
  },
  {
   "cell_type": "code",
   "execution_count": 5,
   "id": "80061547-5fb8-4f76-8696-34ad462ca714",
   "metadata": {},
   "outputs": [],
   "source": [
    "# Сравнение переменных \n",
    "a == b \n",
    "# можно записать результат в переменную\n",
    "c = a==b"
   ]
  },
  {
   "cell_type": "code",
   "execution_count": 6,
   "id": "0a875487-ca60-4e2a-8c2b-62c53e4ea02a",
   "metadata": {},
   "outputs": [
    {
     "data": {
      "text/plain": [
       "False"
      ]
     },
     "execution_count": 6,
     "metadata": {},
     "output_type": "execute_result"
    }
   ],
   "source": [
    "c"
   ]
  },
  {
   "cell_type": "code",
   "execution_count": 9,
   "id": "da2350fa-43fb-4c43-ad77-451801a1bd7d",
   "metadata": {},
   "outputs": [
    {
     "name": "stdout",
     "output_type": "stream",
     "text": [
      "abcabc\n",
      "abcc\n",
      "['abc']\n"
     ]
    }
   ],
   "source": [
    "# строки можно записывать либо в одинарные либо в двойные кавычки\n",
    "a = 'abc'\n",
    "a = \"abc\"\n",
    "# некоторые прикольные операции со строками \n",
    "print(a*2)\n",
    "print(a+'c')\n",
    "listed = a.split()\n",
    "print(listed)"
   ]
  },
  {
   "cell_type": "code",
   "execution_count": 47,
   "id": "db3666de-e800-4174-b231-781aa4385e82",
   "metadata": {},
   "outputs": [
    {
     "name": "stdout",
     "output_type": "stream",
     "text": [
      "2a\n",
      "2\n"
     ]
    }
   ],
   "source": [
    "# приведение к строковому виду \n",
    "print(str(2)+'a')\n",
    "#можно и наоборот\n",
    "print(int('2'))"
   ]
  },
  {
   "cell_type": "markdown",
   "id": "6f04ef47-62e4-4c63-8b3e-774b04263952",
   "metadata": {},
   "source": [
    "# Про работу с массивами (списками)"
   ]
  },
  {
   "cell_type": "markdown",
   "id": "280c2fe7-faba-40d5-a7db-16b0678856f1",
   "metadata": {},
   "source": [
    "# В  отличие от многих языков, элементы массива в языке python могут быть разного типа \n"
   ]
  },
  {
   "cell_type": "code",
   "execution_count": 10,
   "id": "36582c17-9c72-4e96-9a60-d8024c163a9f",
   "metadata": {},
   "outputs": [
    {
     "name": "stdout",
     "output_type": "stream",
     "text": [
      "[[1, 2, 3], [3, 4, 1], [6, 6, 1]]\n"
     ]
    }
   ],
   "source": [
    "a = ['element', 2 ,True]\n",
    "b = [\n",
    "[1,2,3],\n",
    "[3,4,1],\n",
    "[6,6,1]\n",
    "]\n",
    "print(b)"
   ]
  },
  {
   "cell_type": "code",
   "execution_count": 30,
   "id": "b6b16f5b-de84-45de-a1bd-b824009470be",
   "metadata": {},
   "outputs": [
    {
     "data": {
      "text/plain": [
       "['element', 2, True]"
      ]
     },
     "execution_count": 30,
     "metadata": {},
     "output_type": "execute_result"
    }
   ],
   "source": [
    "a"
   ]
  },
  {
   "cell_type": "code",
   "execution_count": 9,
   "id": "6f572bcb-5696-4c78-8a74-4b30fcb5b38c",
   "metadata": {},
   "outputs": [
    {
     "data": {
      "text/plain": [
       "['a', 'b', 'c']"
      ]
     },
     "execution_count": 9,
     "metadata": {},
     "output_type": "execute_result"
    }
   ],
   "source": [
    "list('abc') # применяется к итерируемым объектам"
   ]
  },
  {
   "cell_type": "code",
   "execution_count": 11,
   "id": "cfce02d3-7297-4af5-9f74-83aeaa971afe",
   "metadata": {},
   "outputs": [
    {
     "data": {
      "text/plain": [
       "['__add__',\n",
       " '__class__',\n",
       " '__contains__',\n",
       " '__delattr__',\n",
       " '__dir__',\n",
       " '__doc__',\n",
       " '__eq__',\n",
       " '__format__',\n",
       " '__ge__',\n",
       " '__getattribute__',\n",
       " '__getitem__',\n",
       " '__getnewargs__',\n",
       " '__gt__',\n",
       " '__hash__',\n",
       " '__init__',\n",
       " '__init_subclass__',\n",
       " '__iter__',\n",
       " '__le__',\n",
       " '__len__',\n",
       " '__lt__',\n",
       " '__mod__',\n",
       " '__mul__',\n",
       " '__ne__',\n",
       " '__new__',\n",
       " '__reduce__',\n",
       " '__reduce_ex__',\n",
       " '__repr__',\n",
       " '__rmod__',\n",
       " '__rmul__',\n",
       " '__setattr__',\n",
       " '__sizeof__',\n",
       " '__str__',\n",
       " '__subclasshook__',\n",
       " 'capitalize',\n",
       " 'casefold',\n",
       " 'center',\n",
       " 'count',\n",
       " 'encode',\n",
       " 'endswith',\n",
       " 'expandtabs',\n",
       " 'find',\n",
       " 'format',\n",
       " 'format_map',\n",
       " 'index',\n",
       " 'isalnum',\n",
       " 'isalpha',\n",
       " 'isascii',\n",
       " 'isdecimal',\n",
       " 'isdigit',\n",
       " 'isidentifier',\n",
       " 'islower',\n",
       " 'isnumeric',\n",
       " 'isprintable',\n",
       " 'isspace',\n",
       " 'istitle',\n",
       " 'isupper',\n",
       " 'join',\n",
       " 'ljust',\n",
       " 'lower',\n",
       " 'lstrip',\n",
       " 'maketrans',\n",
       " 'partition',\n",
       " 'replace',\n",
       " 'rfind',\n",
       " 'rindex',\n",
       " 'rjust',\n",
       " 'rpartition',\n",
       " 'rsplit',\n",
       " 'rstrip',\n",
       " 'split',\n",
       " 'splitlines',\n",
       " 'startswith',\n",
       " 'strip',\n",
       " 'swapcase',\n",
       " 'title',\n",
       " 'translate',\n",
       " 'upper',\n",
       " 'zfill']"
      ]
     },
     "execution_count": 11,
     "metadata": {},
     "output_type": "execute_result"
    }
   ],
   "source": [
    "# как посмотреть итерируемый ли объект? \n",
    "dir('abc') # ищем метод __iter__ (что такое метод мы узнаем позднее)"
   ]
  },
  {
   "cell_type": "code",
   "execution_count": 12,
   "id": "e6ad6f4f-f662-4450-b73b-4273f19a6602",
   "metadata": {},
   "outputs": [
    {
     "data": {
      "text/plain": [
       "[]"
      ]
     },
     "execution_count": 12,
     "metadata": {},
     "output_type": "execute_result"
    }
   ],
   "source": [
    "#создание пустого списка\n",
    "s = []\n",
    "s\n"
   ]
  },
  {
   "cell_type": "code",
   "execution_count": 13,
   "id": "1dbb8d3b-5e3a-42ec-8f80-724dcc2eabb5",
   "metadata": {},
   "outputs": [],
   "source": [
    "# можно делать списки в списках\n",
    "s = [[1,2,3],[3,4,1],[1,2,3]]"
   ]
  },
  {
   "cell_type": "code",
   "execution_count": 41,
   "id": "9f9bf07c-4c04-4c02-9e2f-f8b92e7e452b",
   "metadata": {},
   "outputs": [
    {
     "name": "stdout",
     "output_type": "stream",
     "text": [
      "[1, 4, 1213123123, 4, 2, 4, 6, 7345, 7723]\n",
      "[1, 2, 4, 4, 4, 6, 7345, 7723, 1213123123]\n",
      "[1213123123, 7723, 7345, 6, 4, 4, 4, 2, 1]\n",
      "[1213123123, 7723, 7345, 6, 4, 4, 4, 2, 1, 'asdasd']\n"
     ]
    }
   ],
   "source": [
    "# Операции над массивами\n",
    "s = [1,4,1213123123,4,2,4,6,7345,7723]\n",
    "print(s)\n",
    "s.sort()\n",
    "print(s)\n",
    "s.reverse()\n",
    "print(s)\n",
    "s.append('asdasd')\n",
    "print(s)"
   ]
  },
  {
   "cell_type": "code",
   "execution_count": 42,
   "id": "bb1dfaea-b9ad-49c4-afe0-45b7ce8ebf56",
   "metadata": {},
   "outputs": [
    {
     "data": {
      "text/plain": [
       "[1, 2, 3, 4, 5, 6]"
      ]
     },
     "execution_count": 42,
     "metadata": {},
     "output_type": "execute_result"
    }
   ],
   "source": [
    "a = [1,2,3]\n",
    "b = [4,5,6]\n",
    "a+b"
   ]
  },
  {
   "cell_type": "markdown",
   "id": "d86f71fb-7f7c-48fe-bfd2-1a729bbbec23",
   "metadata": {},
   "source": [
    "<table class=\"docutils\" border=\"1\"><thead valign=\"bottom\"><tr><th class=\"head\">Метод</th><th class=\"head\">Что делает</th></tr></thead><tbody valign=\"top\"><tr><td><b>list.append</b>(x)</td><td>Добавляет элемент в конец списка</td></tr><tr><td><b>list.extend</b>(L)</td><td>Расширяет список list, добавляя в конец все элементы списка L</td></tr><tr><td><b>list.insert</b>(i, x)</td><td>Вставляет на i-ый элемент значение x</td></tr><tr><td><b>list.remove</b>(x)</td><td>Удаляет первый элемент в списке, имеющий значение x. ValueError, если такого элемента не существует</td></tr><tr><td><b>list.pop</b>([i])</td><td>Удаляет i-ый элемент и возвращает его. Если индекс не указан, удаляется последний элемент</td></tr><tr><td><b>list.index</b>(x, [start [, end]])</td><td>Возвращает положение первого элемента со значением x (при этом поиск ведется от start до end)</td></tr><tr><td><b>list.count</b>(x)</td><td>Возвращает количество элементов со значением x</td></tr><tr><td><b>list.sort</b>([key=функция])</td><td>Сортирует список на основе функции</td></tr><tr><td><b>list.reverse</b>()</td><td>Разворачивает список</td></tr><tr><td><b>list.copy</b>()</td><td>Поверхностная копия списка</td></tr><tr><td><b>list.clear</b>()</td><td>Очищает список</td></tr></tbody></table>"
   ]
  },
  {
   "cell_type": "markdown",
   "id": "95665a6b-a420-4f35-9787-20003fcbbd6d",
   "metadata": {},
   "source": [
    "# Словари"
   ]
  },
  {
   "cell_type": "code",
   "execution_count": 12,
   "id": "75b9aa35-e5ce-4dae-b6ed-e0c2c82ebf3a",
   "metadata": {},
   "outputs": [
    {
     "data": {
      "text/plain": [
       "'Ноябрь'"
      ]
     },
     "execution_count": 12,
     "metadata": {},
     "output_type": "execute_result"
    }
   ],
   "source": [
    "x = {11:'Ноябрь'}\n",
    "x[11]"
   ]
  },
  {
   "cell_type": "code",
   "execution_count": 49,
   "id": "b4d74c82-ae0b-432d-a00d-8477d9431674",
   "metadata": {},
   "outputs": [
    {
     "data": {
      "text/plain": [
       "{1: 'январь',\n",
       " 2: 'февраль',\n",
       " 3: 'март',\n",
       " 4: 'апрель',\n",
       " 5: 'май',\n",
       " 6: 'июнь',\n",
       " 7: 'июль',\n",
       " 8: 'август',\n",
       " 9: 'сентябрь',\n",
       " 10: 'октябрь',\n",
       " 11: 'ноябрь',\n",
       " 12: 'декабрь'}"
      ]
     },
     "execution_count": 49,
     "metadata": {},
     "output_type": "execute_result"
    }
   ],
   "source": [
    "# Вручную заполнять словарь не всегда удобно\n",
    "month = ['январь', \"февраль\", \"март\", \"апрель\", \"май\", \"июнь\", \"июль\", \"август\", \"сентябрь\", \"октябрь\", \"ноябрь\", \"декабрь\"]\n",
    "x = {k+1: month[k] for k in range(12) }\n",
    "\n",
    "x"
   ]
  },
  {
   "cell_type": "markdown",
   "id": "ae7fd847-6578-4b6c-a6d8-8b6c331b7219",
   "metadata": {},
   "source": [
    "# Циклы"
   ]
  },
  {
   "cell_type": "code",
   "execution_count": 3,
   "id": "60f7fc7f-b2a0-4718-9a1b-30b768dee398",
   "metadata": {},
   "outputs": [
    {
     "name": "stdout",
     "output_type": "stream",
     "text": [
      "6\n",
      "7\n",
      "8\n",
      "9\n",
      "10\n",
      "11\n",
      "12\n",
      "13\n",
      "14\n",
      "15\n"
     ]
    }
   ],
   "source": [
    "i = 5\n",
    "while i<15:\n",
    "    i+=1\n",
    "    print(i)"
   ]
  },
  {
   "cell_type": "code",
   "execution_count": 4,
   "id": "05bea616-a73f-42df-90e3-f2ad7470edbc",
   "metadata": {},
   "outputs": [
    {
     "name": "stdout",
     "output_type": "stream",
     "text": [
      "0\n",
      "1\n",
      "2\n",
      "3\n",
      "4\n",
      "5\n",
      "6\n",
      "7\n",
      "8\n",
      "9\n"
     ]
    }
   ],
   "source": [
    "for i in range(10):\n",
    "    print(i)"
   ]
  },
  {
   "cell_type": "markdown",
   "id": "7f89f942-d607-418f-b684-ec82247b0d46",
   "metadata": {},
   "source": [
    "# ВАЖНО итерироваться можно по любому объекту, где есть метод \\__iter__"
   ]
  },
  {
   "cell_type": "code",
   "execution_count": 13,
   "id": "ad3de120-05b6-4ab1-8abb-4d2a1d5b27c3",
   "metadata": {},
   "outputs": [
    {
     "name": "stdout",
     "output_type": "stream",
     "text": [
      "a\n",
      "b\n",
      "c\n",
      "d\n",
      "e\n",
      "f\n"
     ]
    }
   ],
   "source": [
    "s = 'abcdef'\n",
    "for char in s:\n",
    "    print (char)\n"
   ]
  },
  {
   "cell_type": "code",
   "execution_count": 7,
   "id": "495890b3-9560-41bf-8603-4e49b824ec70",
   "metadata": {},
   "outputs": [
    {
     "name": "stdout",
     "output_type": "stream",
     "text": [
      "2\n",
      "6\n",
      "8\n"
     ]
    }
   ],
   "source": [
    "m = [1,3,4]\n",
    "for element in m:\n",
    "    print(element*2)"
   ]
  },
  {
   "cell_type": "markdown",
   "id": "c01739f7-ca9b-495d-b894-d37c6ef3df85",
   "metadata": {},
   "source": [
    "# выпендрежная штука ЛИСТ КОПРЕХЕШН"
   ]
  },
  {
   "cell_type": "code",
   "execution_count": 17,
   "id": "1c747470-6a76-487a-bc72-ba7eb1753c14",
   "metadata": {},
   "outputs": [
    {
     "name": "stdout",
     "output_type": "stream",
     "text": [
      "[0, 1, 4, 9, 16, 25, 36, 49, 64, 81]\n",
      "[0, 1, 4, 9, 16, 25, 36, 49, 64, 81]\n",
      "['AA', 'BB', 'CC', 'DD', 'EE', 'FF', 'GG']\n"
     ]
    }
   ],
   "source": [
    "a = []\n",
    "for i in range(10):\n",
    "    a.append(i**2)\n",
    "print (a)\n",
    "\n",
    "b = [i**2 for i in range(10)]\n",
    "print(b)\n",
    "\n",
    "s = 'abcdefg'\n",
    "S = [char.capitalize()*2 for char in s]\n",
    "print(S)"
   ]
  },
  {
   "cell_type": "markdown",
   "id": "0c5b2644-220d-4398-ad35-1b40d1269a55",
   "metadata": {},
   "source": [
    "# Условные операторы"
   ]
  },
  {
   "cell_type": "code",
   "execution_count": 26,
   "id": "a38bcf32-6ab1-4d11-ac02-b4a47d423892",
   "metadata": {},
   "outputs": [
    {
     "name": "stdout",
     "output_type": "stream",
     "text": [
      "equal\n"
     ]
    }
   ],
   "source": [
    "a = 3\n",
    "b = 3\n",
    "if a<b:\n",
    "    print(a)\n",
    "elif a>b:\n",
    "    print(b)\n",
    "else:\n",
    "    print('equal')"
   ]
  },
  {
   "cell_type": "markdown",
   "id": "82fba1da-c008-42b7-ac97-522f1611e37d",
   "metadata": {},
   "source": [
    "# можно использовать символы <,> ==, !=, а также  is, in, and, or"
   ]
  },
  {
   "cell_type": "code",
   "execution_count": 31,
   "id": "e7e677e6-f054-4920-aedc-f3e4e21b4294",
   "metadata": {},
   "outputs": [
    {
     "name": "stdout",
     "output_type": "stream",
     "text": [
      "you are wrong\n"
     ]
    }
   ],
   "source": [
    "if 2+2 == 4 and 2+3 == 4:\n",
    "    print ('4')\n",
    "else:\n",
    "    print('you are wrong')"
   ]
  },
  {
   "cell_type": "code",
   "execution_count": 61,
   "id": "5624ac52-bfa9-4700-a70e-fd3a4e66513a",
   "metadata": {},
   "outputs": [
    {
     "name": "stdout",
     "output_type": "stream",
     "text": [
      "True\n"
     ]
    }
   ],
   "source": [
    "#Вспомним словари\n",
    "month = ['январь', \"февраль\", \"март\", \"апрель\", \"май\", \"июнь\", \"июль\", \"август\", \"сентябрь\", \"октябрь\", \"ноябрь\", \"декабрь\"]\n",
    "month = {k+1: month[k] for k in range(12)}\n",
    "if 'январь' in month.values():\n",
    "    print( True)\n",
    "else:\n",
    "    print(False)"
   ]
  },
  {
   "cell_type": "markdown",
   "id": "dca57ffb-c5e5-46e9-a272-19ee5c966b42",
   "metadata": {},
   "source": [
    "# Функции"
   ]
  },
  {
   "cell_type": "code",
   "execution_count": 62,
   "id": "88c28759-e3cc-4e4a-8344-ed515679c2bc",
   "metadata": {},
   "outputs": [
    {
     "name": "stdout",
     "output_type": "stream",
     "text": [
      "31\n"
     ]
    }
   ],
   "source": [
    "def name_of_function(a,b):\n",
    "    return (a+b)\n",
    "\n",
    "print(name_of_function(1,30))"
   ]
  },
  {
   "cell_type": "code",
   "execution_count": 67,
   "id": "b3feb83a-2eea-4535-939f-c6fbd1bd542e",
   "metadata": {},
   "outputs": [
    {
     "data": {
      "text/plain": [
       "(-3.0, 1.0)"
      ]
     },
     "execution_count": 67,
     "metadata": {},
     "output_type": "execute_result"
    }
   ],
   "source": [
    "# вычислим корни квадратного уравнения a*x^2+bx+c = 0\n",
    "from math import sqrt\n",
    "def sq_roots(a,b,c):\n",
    "    discr = b**2 -4*a*c\n",
    "    x1 = (-b+sqrt(discr))/(2*a)\n",
    "    x2 = (-b-sqrt(discr))/(2*a)\n",
    "    return (x1,x2)\n",
    "sq_roots(-1,-2,3)"
   ]
  },
  {
   "cell_type": "markdown",
   "id": "46e414c7-1cb0-4885-b29b-18e5d3071563",
   "metadata": {},
   "source": [
    "# что можно передавать в качестве аргументов \n",
    "**все что угодно!!!**"
   ]
  },
  {
   "cell_type": "code",
   "execution_count": 78,
   "id": "d1090d24-a16b-4863-bec7-375dbc235069",
   "metadata": {},
   "outputs": [],
   "source": [
    "def summa(massive):\n",
    "    \"\"\"\n",
    "    Эта функция находит сумму элементов массива\n",
    "    \"\"\"\n",
    "    k=0\n",
    "    for i in massive:\n",
    "       k+=i\n",
    "    return(k)"
   ]
  },
  {
   "cell_type": "code",
   "execution_count": 77,
   "id": "68c9ed8d-0dc9-46de-ad73-95ad32d8af8c",
   "metadata": {},
   "outputs": [
    {
     "data": {
      "text/plain": [
       "33"
      ]
     },
     "execution_count": 77,
     "metadata": {},
     "output_type": "execute_result"
    }
   ],
   "source": [
    "summa([1,2,30])"
   ]
  },
  {
   "cell_type": "markdown",
   "id": "6a5fc342-ee41-4b63-b2cb-cb28a0ad8316",
   "metadata": {},
   "source": [
    "# Анонимные функции"
   ]
  },
  {
   "cell_type": "code",
   "execution_count": 90,
   "id": "5b357a3b-bbe8-48cc-b5e5-3ef2cf061702",
   "metadata": {},
   "outputs": [
    {
     "data": {
      "text/plain": [
       "5"
      ]
     },
     "execution_count": 90,
     "metadata": {},
     "output_type": "execute_result"
    }
   ],
   "source": [
    "def summa(x,y):\n",
    "    return (x+y)\n",
    "\n",
    "summa(2,3)"
   ]
  },
  {
   "cell_type": "code",
   "execution_count": 91,
   "id": "1e44ba0a-519e-4d61-a016-ed93d2d4a07d",
   "metadata": {},
   "outputs": [
    {
     "data": {
      "text/plain": [
       "5"
      ]
     },
     "execution_count": 91,
     "metadata": {},
     "output_type": "execute_result"
    }
   ],
   "source": [
    "(lambda x, y: x + y)(2, 3)"
   ]
  },
  {
   "cell_type": "markdown",
   "id": "6c276a80-058e-4588-9b0c-a58612480f43",
   "metadata": {},
   "source": [
    "# Классы"
   ]
  },
  {
   "cell_type": "markdown",
   "id": "1819fb51-feb6-4043-ae97-9393e7238da6",
   "metadata": {},
   "source": [
    "# Классы мы изучать не будем "
   ]
  },
  {
   "cell_type": "code",
   "execution_count": 14,
   "id": "27ee1eb8-47f2-4123-8726-3c99a32c792e",
   "metadata": {},
   "outputs": [],
   "source": [
    "class Lattice():\n",
    "    def __init__(self, numbers_of_elements, coordination_number, period ):\n",
    "        self.numbers_of_elements =  numbers_of_elements\n",
    "        self.coordination_number = coordination_number\n",
    "        self.period = period\n",
    "\n",
    "        \n"
   ]
  },
  {
   "cell_type": "code",
   "execution_count": 15,
   "id": "140ad206-35ff-4793-b5bb-89e8410b31ac",
   "metadata": {},
   "outputs": [],
   "source": [
    "fcc = Lattice(numbers_of_elements=4, coordination_number=12, period=0.365)"
   ]
  },
  {
   "cell_type": "code",
   "execution_count": 18,
   "id": "72a04e61-2040-42a5-9ae3-d317249318ae",
   "metadata": {},
   "outputs": [],
   "source": [
    "import matplotlib.pyplot as plt\n",
    "import numpy as np"
   ]
  },
  {
   "cell_type": "code",
   "execution_count": 20,
   "id": "7ea009ea-2474-4366-9aaf-5d0d0d40e0b3",
   "metadata": {},
   "outputs": [],
   "source": [
    "a = range(100)\n",
    "b = np.sin(a)"
   ]
  },
  {
   "cell_type": "code",
   "execution_count": 22,
   "id": "dcd3b747-96eb-423d-a77a-2560f87a19c8",
   "metadata": {},
   "outputs": [
    {
     "data": {
      "image/png": "[encoded data removed]",
      "text/plain": [
       "<Figure size 640x480 with 1 Axes>"
      ]
     },
     "metadata": {},
     "output_type": "display_data"
    }
   ],
   "source": [
    "plt.plot(a,b)\n",
    "plt.show()"
   ]
  },
  {
   "cell_type": "code",
   "execution_count": null,
   "id": "e2945047-618a-4fbf-900e-6c7085c23c64",
   "metadata": {},
   "outputs": [],
   "source": []
  }
 ],
 "metadata": {
  "kernelspec": {
   "display_name": "Python 3",
   "language": "python",
   "name": "python3"
  },
  "language_info": {
   "codemirror_mode": {
    "name": "ipython",
    "version": 3
   },
   "file_extension": ".py",
   "mimetype": "text/x-python",
   "name": "python",
   "nbconvert_exporter": "python",
   "pygments_lexer": "ipython3",
   "version": "3.8.8"
  }
 },
 "nbformat": 4,
 "nbformat_minor": 5
}
