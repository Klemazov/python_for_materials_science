{
 "cells": [
  {
   "cell_type": "code",
   "execution_count": 2,
   "id": "e5281ad4-380e-4d33-a7a5-9bd95efcd8bc",
   "metadata": {},
   "outputs": [],
   "source": [
    "import numpy as np\n",
    "import matplotlib.pyplot as plt \n",
    "from ipywidgets import interactive, FloatSlider, Select"
   ]
  },
  {
   "cell_type": "markdown",
   "id": "e955fed4-fb43-4902-9b4e-8bfe1509bf4c",
   "metadata": {},
   "source": [
    "# Импортируем необходимые библиотеки"
   ]
  },
  {
   "cell_type": "markdown",
   "id": "4892b692-72b4-4650-8165-3f66e71b90d9",
   "metadata": {
    "tags": []
   },
   "source": [
    "# Определим функцию для расчета энергии Гиббса\n"
   ]
  },
  {
   "cell_type": "code",
   "execution_count": 3,
   "id": "896079e8-9ebd-43b8-9f1f-d61706884258",
   "metadata": {},
   "outputs": [],
   "source": [
    "R = 8.31446261815324# газовая постоянная"
   ]
  },
  {
   "cell_type": "markdown",
   "id": "529129b6-b907-452b-a1ec-cf0cec3c1049",
   "metadata": {
    "tags": []
   },
   "source": [
    "## Определим значение активностей компонент a и b: $a_A = (1-x)  \\exp(\\frac{x^2 \\Omega}{RT})$  , $a_B= x\\exp(\\frac{(1-x)^2 \\Omega}{RT})$"
   ]
  },
  {
   "cell_type": "code",
   "execution_count": 4,
   "id": "ba312414-cd36-4fc6-868d-7920f6514b3e",
   "metadata": {},
   "outputs": [],
   "source": [
    "# активности компонент а и б \n",
    "def a_a(x, omega_RT=0):\n",
    "    return (1-x)*np.exp(x**2*omega_RT)\n",
    "\n",
    "def a_b(x, omega_RT=0):\n",
    "    return x*np.exp((1-x)**2*omega_RT)\n"
   ]
  },
  {
   "cell_type": "markdown",
   "id": "9080970a-b1ff-4995-bb2f-969d392c9521",
   "metadata": {},
   "source": [
    "## Определим парциальные энергии Гиббса для двух компонент $\\bar{G_A} = G^0_A +RT ln(a_A(x))$, $\\bar{G_B} = G^0_B +RT ln(a_B(x))$"
   ]
  },
  {
   "cell_type": "code",
   "execution_count": 5,
   "id": "0770c527-6511-48ef-90c9-54eac4a3f1eb",
   "metadata": {},
   "outputs": [],
   "source": [
    "# объявим парциальные энергии Гиббса для двух компонент\n",
    "def G_A(x,G_A0=-189000, T = 2500):\n",
    "    global R\n",
    "    return G_A0+R*T*np.log(a_a(x))\n",
    "\n",
    "def G_B(x,G_B0=-193000, T = 2500):\n",
    "    global R\n",
    "    return G_B0+R*T*np.log(a_b(x))\n",
    "\n"
   ]
  },
  {
   "cell_type": "markdown",
   "id": "116cd64b-56fa-4d60-a675-f33dac40b077",
   "metadata": {},
   "source": [
    "## Определим энергию Гиббса смешения $G_m = x\\bar{G_B}+(1-x)\\bar{G_A}$"
   ]
  },
  {
   "cell_type": "code",
   "execution_count": 6,
   "id": "065cb09f-6f66-4c33-ba7e-7b584e8bef61",
   "metadata": {},
   "outputs": [],
   "source": [
    "# определим энергию Гиббса смешения\n",
    "def G_m(x, T, G_A0, G_B0):\n",
    "    return x*G_B(x, G_B0,T)+(1-x)*G_A(x, G_A0,T)"
   ]
  },
  {
   "cell_type": "code",
   "execution_count": 7,
   "id": "a491dfde-d858-4f1d-b0b3-1ba3071b403e",
   "metadata": {},
   "outputs": [],
   "source": [
    "def f(x,G_A0,G_B0,T):\n",
    "    return G_A(x,G_A0, T)+x*(G_B(x, G_B0, T)-G_A(x, G_A0, T))"
   ]
  },
  {
   "cell_type": "code",
   "execution_count": 31,
   "id": "c1e43a66",
   "metadata": {},
   "outputs": [],
   "source": [
    "class Gibbs():\n",
    "    def __init__(self, H0, S0, a, b, c):\n",
    "        self.H0 = H0\n",
    "        self.S0 = S0\n",
    "        self.a = a\n",
    "        self.b = b\n",
    "        self.c = c\n",
    "        \n",
    "    def G0_T(self, T):\n",
    "        H0 = self.H0\n",
    "        S0 = self.S0\n",
    "        a = self.a\n",
    "        b = self.b\n",
    "        c = self.c\n",
    "        G = H0 - T*S0 + a*T + b*T**2 - c/T - 298*a - (298)**2*b/2 - c/298 - a*T*np.log(T) - b*T**2 + c/(2*T) + 298*b*T + c*T/(2*(298)**2)\n",
    "        return G"
   ]
  },
  {
   "cell_type": "code",
   "execution_count": 36,
   "id": "d36cb183",
   "metadata": {},
   "outputs": [
    {
     "name": "stdout",
     "output_type": "stream",
     "text": [
      "-109645.81056568629\n",
      "-88413.19036399065\n"
     ]
    }
   ],
   "source": [
    "Ag = Gibbs(H0 = 0, S0 = 42.69, a = 23.97, b = 5.28*10**(-3), c = -0.25*10**5)\n",
    "res = Ag.G0_T(600)\n",
    "print(res)\n",
    "Al = Gibbs(H0 = 0, S0 = 28.31, a = 20.67, b = 12.39*10**(-3), c = 0)\n",
    "res = Al.G0_T(600)\n",
    "print(res)\n",
    "# massive_of_gibbs = [G_Ag.G0_T(x) for x in range(298, 1234)]\n",
    "# plt.plot(range(298, 1234), massive_of_gibbs)"
   ]
  },
  {
   "cell_type": "markdown",
   "id": "2fef3e5d-d290-4490-8b5e-fa608a7c307a",
   "metadata": {},
   "source": [
    "# Расчитаем энергию Гиббса для системы $Ta-Zr$"
   ]
  },
  {
   "cell_type": "markdown",
   "id": "0848765c-88d1-483d-8750-0e0533c69d5e",
   "metadata": {},
   "source": [
    "## Для чистых компонент известны стандартные энергии Гиббса ($G_0$). Запишем для удобства данные в виде словаря "
   ]
  },
  {
   "cell_type": "code",
   "execution_count": 8,
   "id": "f6c87f34-979f-4b06-b102-858fa20b69fe",
   "metadata": {},
   "outputs": [],
   "source": [
    "Giggs_enegries = {\n",
    "     'Ta': \n",
    "            {'lattice parameter': 0.3303,\n",
    "             'T melting': 3269,\n",
    "             'Gibbs Energy':\n",
    "             {\n",
    "             '2000':{'solid':-140000,'liquid':-128000},\n",
    "             '2500': {'solid':-189000,'liquid':-181000} ,\n",
    "             '3500':{'solid':-297000,'liquid':-299000}\n",
    "             }\n",
    "            },\n",
    "     'Zr':\n",
    "            {'lattice parameter': 0.3616,\n",
    "             'T melting': 2125,\n",
    "             'Gibbs Energy':\n",
    "             {\n",
    "             '2000':{'solid':-142000,'liquid':-141000},\n",
    "             '2500': {'solid':-193000,'liquid':-196000} ,\n",
    "             '3500':{'solid':-309000,'liquid':-319000}\n",
    "             }\n",
    "            }\n",
    "     \n",
    "    }\n"
   ]
  },
  {
   "cell_type": "markdown",
   "id": "18e425c8-5486-49fb-a68a-2daf86184866",
   "metadata": {},
   "source": [
    "## Построим графики для энергий Гиббса "
   ]
  },
  {
   "cell_type": "code",
   "execution_count": 9,
   "id": "fd30c675-a9e4-48bf-990f-62f2614d7029",
   "metadata": {},
   "outputs": [
    {
     "data": {
      "application/vnd.jupyter.widget-view+json": {
       "model_id": "4d36e028beb34e0b915e9412517e4cdf",
       "version_major": 2,
       "version_minor": 0
      },
      "text/plain": [
       "interactive(children=(Select(description='Температура:', options=(2000, 2500, 3500), value=2000), Output()), _…"
      ]
     },
     "metadata": {},
     "output_type": "display_data"
    }
   ],
   "source": [
    "def plot(T):\n",
    "    # определим значения энергий активации чистых компонент из словаря \n",
    "    G_A0_S = Giggs_enegries['Ta']['Gibbs Energy'][str(T)]['solid']\n",
    "    G_A0_L = Giggs_enegries['Ta']['Gibbs Energy'][str(T)]['liquid']\n",
    "    G_B0_S = Giggs_enegries['Zr']['Gibbs Energy'][str(T)]['solid']\n",
    "    G_B0_L = Giggs_enegries['Zr']['Gibbs Energy'][str(T)]['liquid']\n",
    "    # определим массив для мольной доли одного из компонент\n",
    "    x = np.linspace(0.0000001,0.9999999, 50)\n",
    "    # расчитаем энергии Гиббса для жидкого и твердого состояния\n",
    "    G_m_solid = G_m(x,G_A0=G_A0_S,G_B0=G_B0_S,T = T)\n",
    "    G_m_liquid = G_m(x,G_A0=G_A0_L,G_B0=G_B0_L,T = T)\n",
    "    # отрисовка графиков\n",
    "    plt.figure(figsize=(10,8))\n",
    "    plt.plot(x,G_m_solid, label ='Энергия Гиббса для твердой фазы')\n",
    "    plt.plot(x,G_m_liquid, label ='Энергия Гиббса для жидкой фазы')\n",
    "    plt.legend(fontsize = 20)\n",
    "    plt.xlabel('Мольная доля Zr', fontsize = 20)\n",
    "    plt.ylabel('Значение Энергии Гиббса', fontsize= 20)\n",
    "    plt.title('Энергии Гиббса для системы $Ta-Zr$', fontsize = 20)\n",
    "    plt.grid()\n",
    "# создадим виджет для температуры\n",
    "temperature = Select(\n",
    "    options=[2000, 2500, 3500],\n",
    "    value=2000,\n",
    "    description='Температура:',\n",
    "    disabled=False\n",
    ")\n",
    "# сделаем интерактивный график с регулированием температуры \n",
    "interactive(plot, T = temperature)"
   ]
  },
  {
   "cell_type": "markdown",
   "id": "bb27319a-021f-40f2-be69-b20c5ed582da",
   "metadata": {},
   "source": [
    "Проанализировав кривые энергий Гиббса, можно сделать вывод, что при температуре 2000К во всем диапазоне температур наблюдается только твердая фаза\n",
    "\n",
    "При температуре 3500К во всех областях концентраций наблюдается только жидкая фаза\n",
    "\n",
    "При температуре 2500К наблюдается сосуществование двух фаз - жидкой и твердой. Равновесные концентрации можно получить проведя общую касательную к двум кривым, либо решить систему уравнений ниже"
   ]
  },
  {
   "cell_type": "markdown",
   "id": "16cb50e3-aa97-4969-9fde-4ee51554bc2b",
   "metadata": {
    "tags": []
   },
   "source": [
    "# Попробуем вычислить численно значения концентраций Т = 2500К"
   ]
  },
  {
   "cell_type": "markdown",
   "id": "7cde0e34-6893-4552-9680-53bc7364f075",
   "metadata": {},
   "source": [
    "##  определим систему нелинейных уравнений для расчета концентраций (приближение идеальных растворов). Для этого необходимо решить систему  уравнений\n",
    "### $RT ln(\\frac{1-x^S_B}{1-x^L_B})+(G^{0L}_A-G^{0S}_A)=0$\n",
    "\n",
    "### $RT ln(\\frac{x^S_B}{x^L_B})+(G^{0L}_B-G^{0S}_S)=0$"
   ]
  },
  {
   "cell_type": "code",
   "execution_count": 10,
   "id": "e1653099-aeef-4a25-a486-e063abd6e30d",
   "metadata": {},
   "outputs": [],
   "source": [
    "from scipy.optimize import fsolve\n",
    "\n",
    "def func(x, *data):\n",
    "    T,G_A0L,G_A0S, G_B0L, G_B0S = data\n",
    "    global R\n",
    "    Xbs = x[1]\n",
    "    Xbl = x[0]\n",
    "    f1 = T*R*np.log((1-Xbs)/(1-Xbl))+(G_A0L-G_A0S)\n",
    "    f2 = T*R*np.log(Xbs/Xbl)+(G_B0L-G_B0S)\n",
    "    return [f1,f2]\n",
    "T =2500\n",
    "G_A0_S = Giggs_enegries['Ta']['Gibbs Energy']['2500']['solid']\n",
    "G_A0_L = Giggs_enegries['Ta']['Gibbs Energy']['2500']['liquid']\n",
    "G_B0_S = Giggs_enegries['Zr']['Gibbs Energy']['2500']['solid']\n",
    "G_B0_L = Giggs_enegries['Zr']['Gibbs Energy']['2500']['liquid']\n",
    "data = (T,G_A0_L, G_A0_S,G_B0_L,G_B0_S)\n",
    "root = fsolve(func, args=data, x0=[0.6,0.4])"
   ]
  },
  {
   "cell_type": "code",
   "execution_count": 11,
   "id": "ed36b55c-3075-4eb7-ac1d-abd0c8c9eef9",
   "metadata": {},
   "outputs": [
    {
     "data": {
      "text/plain": [
       "(0.672943099743133, 0.7774253331769635)"
      ]
     },
     "execution_count": 11,
     "metadata": {},
     "output_type": "execute_result"
    }
   ],
   "source": [
    "root[0], root[1]"
   ]
  },
  {
   "cell_type": "markdown",
   "id": "5b5e3432-ddf0-4877-9f69-bdb41f8d47bb",
   "metadata": {},
   "source": [
    "## Построим фазовую диаграмму по найденым значениям концентрации  и по известным температурам плавления чистых компонент "
   ]
  },
  {
   "cell_type": "code",
   "execution_count": 12,
   "id": "b32bae83-4cb2-4e04-b9c8-8740a9b05464",
   "metadata": {},
   "outputs": [
    {
     "data": {
      "image/png": "[encoded data removed]",
      "text/plain": [
       "<Figure size 1080x576 with 1 Axes>"
      ]
     },
     "metadata": {
      "needs_background": "light"
     },
     "output_type": "display_data"
    }
   ],
   "source": [
    "temperatures = np.array([3269,2500,2125])\n",
    "solidus = np.array([0, root[0],1]) # концентрации для линии солидуса\n",
    "liquidus = np.array([0, root[1],1]) # концентрации для линии ликвидуса\n",
    "plt.figure(figsize=(15,8))\n",
    "plt.plot(solidus,temperatures,'-ok', label = 'solidus',)\n",
    "plt.plot(liquidus ,temperatures,'-or', label = 'liquidus')\n",
    "plt.ylim((2000,3500))\n",
    "plt.xlabel('содержание Zr в тантале',fontsize = 20)\n",
    "plt.ylabel('Температура, К', fontsize = 20)\n",
    "plt.legend(fontsize = 20)\n",
    "plt.grid()"
   ]
  },
  {
   "cell_type": "markdown",
   "id": "77d1d2d4-caa8-4733-ad71-d300f5708194",
   "metadata": {},
   "source": [
    "### Необходимо отметить, что данные расчеты были проведены в приближении идельных растворов ($\\Omega = 0$). В действительности фазовая диаграмма  $Ta-Zr$ имеет более сложный вид"
   ]
  },
  {
   "cell_type": "code",
   "execution_count": null,
   "id": "d678dd73-4459-40dd-b058-ea5bff296915",
   "metadata": {},
   "outputs": [],
   "source": []
  }
 ],
 "metadata": {
  "kernelspec": {
   "display_name": "Python 3",
   "language": "python",
   "name": "python3"
  },
  "language_info": {
   "codemirror_mode": {
    "name": "ipython",
    "version": 3
   },
   "file_extension": ".py",
   "mimetype": "text/x-python",
   "name": "python",
   "nbconvert_exporter": "python",
   "pygments_lexer": "ipython3",
   "version": "3.8.8"
  }
 },
 "nbformat": 4,
 "nbformat_minor": 5
}
