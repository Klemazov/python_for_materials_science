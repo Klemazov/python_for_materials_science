{
 "cells": [
  {
   "cell_type": "markdown",
   "id": "82034043-17af-4e35-81f9-3454a895c5fb",
   "metadata": {},
   "source": [
    "# Решение задач"
   ]
  },
  {
   "cell_type": "markdown",
   "id": "4003e908-1a49-4e58-a0c6-231943633959",
   "metadata": {},
   "source": [
    "## Задача №1\n",
    "\n",
    "Есть список a = [1, 1, 2, 3, 5, 8, 13, 21, 34, 55, 89].\n",
    "\n",
    "Выведите все элементы, которые меньше 5."
   ]
  },
  {
   "cell_type": "code",
   "execution_count": 3,
   "id": "de596132-3b3f-4b46-89bc-1295562ea476",
   "metadata": {},
   "outputs": [
    {
     "name": "stdout",
     "output_type": "stream",
     "text": [
      "1\n",
      "1\n",
      "2\n",
      "3\n"
     ]
    }
   ],
   "source": [
    "a = [1, 1, 2, 3, 5, 8, 13, 21, 34, 55, 89]\n",
    "for element in a:\n",
    "    if element < 5:\n",
    "        print(element)"
   ]
  },
  {
   "cell_type": "code",
   "execution_count": null,
   "id": "7a0bc670-bf73-43ff-ac3f-c36b987eb2a5",
   "metadata": {},
   "outputs": [],
   "source": []
  },
  {
   "cell_type": "markdown",
   "id": "41acd74a-ad37-4116-98ee-4a3d00def67f",
   "metadata": {},
   "source": [
    "## Задача №2\n",
    "Напишите проверку на то, является ли строка палиндромом. Палиндром — это слово или фраза, которые одинаково читаются слева направо и справа налево."
   ]
  },
  {
   "cell_type": "code",
   "execution_count": 13,
   "id": "0f21991f-b125-418e-accc-edcf973516d4",
   "metadata": {},
   "outputs": [
    {
     "name": "stdout",
     "output_type": "stream",
     "text": [
      "Палиндром\n",
      "не палиндром\n"
     ]
    }
   ],
   "source": [
    "def is_palindrom(string:str)-> bool:\n",
    "    if string == string[::-1]:\n",
    "        print('Палиндром')\n",
    "    else:\n",
    "        print('не палиндром')\n",
    "abababa = 'abababa'\n",
    "abcabc = 'abcabc'\n",
    "is_palindrom(abababa)\n",
    "is_palindrom(abcabc)"
   ]
  },
  {
   "cell_type": "markdown",
   "id": "81da2648-e471-449a-a312-1db6d9ed26c2",
   "metadata": {},
   "source": [
    "## Задача №3\n",
    "If we list all the natural numbers below 10 that are multiples of 3 or 5, we get 3, 5, 6 and 9. The sum of these multiples is 23.\n",
    "\n",
    "Find the sum of all the multiples of 3 or 5 below 1000."
   ]
  },
  {
   "cell_type": "code",
   "execution_count": 14,
   "id": "23cb58a1-78c8-4366-aebb-65e9fc8a474e",
   "metadata": {},
   "outputs": [
    {
     "name": "stdout",
     "output_type": "stream",
     "text": [
      "233168\n"
     ]
    }
   ],
   "source": [
    "natural_numbers = list(range(1000))\n",
    "sum_ = 0\n",
    "for element in natural_numbers:\n",
    "    if (element % 3 == 0) or (element % 5 == 0):\n",
    "        sum_+=element\n",
    "print(sum_)"
   ]
  },
  {
   "cell_type": "markdown",
   "id": "9bcb1dd8-2b40-4b56-bcb7-794797407bd0",
   "metadata": {},
   "source": [
    "*еще один вариант решения* list comprehension"
   ]
  },
  {
   "cell_type": "code",
   "execution_count": 21,
   "id": "9aad787b-302a-4f97-9efc-bc59e58e0fc3",
   "metadata": {},
   "outputs": [
    {
     "data": {
      "text/plain": [
       "233168"
      ]
     },
     "execution_count": 21,
     "metadata": {},
     "output_type": "execute_result"
    }
   ],
   "source": [
    "result = sum([x for x in range(1000) if (x % 3 == 0 or x % 5 == 0)])\n",
    "result"
   ]
  },
  {
   "cell_type": "markdown",
   "id": "5dbe53ab-6b71-45a6-93f5-0bcd97ec802e",
   "metadata": {},
   "source": [
    "еще один вариант решения (вдруг надо посчитать для миллиона или миллиарда)\n",
    "\n",
    "решение это написание функции SumDivisibleBy\n",
    "\n",
    "***SumDivisibleBy(3)+SumDivisibleBy(5)-SumDivisibleBy(15)***\n",
    "\n",
    "заметим, что для 3:\n",
    "\n",
    "$3+6+9+...+999=3 \\cdot (1+2+3+...+333)$\n",
    "\n",
    "Для 5 мы хотим получить что-то типа:\n",
    "\n",
    "$5+10+15+...+995 = 5 \\cdot (1+2+...+199)$\n",
    "\n",
    "можно переписать правую часть в общем виде:\n",
    "\n",
    "$n \\cdot (1+2+...+ \\text{ target } // n)$ (// - целочисленное деление)\n",
    "\n",
    "Сумма $(1+2+...+ \\text{ target } // n)$ равна:\n",
    "\n",
    "$$S = \\frac{p(1+p)}{2}$$\n",
    "\n",
    "Здесь $p = \\text{ target } // n$\n",
    "\n",
    "итоговая сумма:\n",
    "$$result = n\\frac{p(1+p)}{2}$$"
   ]
  },
  {
   "cell_type": "code",
   "execution_count": 1,
   "id": "70bdba5b-0220-45ff-af85-b662403c09de",
   "metadata": {},
   "outputs": [
    {
     "data": {
      "text/plain": [
       "233168"
      ]
     },
     "execution_count": 1,
     "metadata": {},
     "output_type": "execute_result"
    }
   ],
   "source": [
    "def sum_divisible_by(n:int, target:int)->int:\n",
    "    \"\"\"\n",
    "    n:int - число на которое делится без остатка\n",
    "    target:int - до какого числа проверять\n",
    "    return:int - сумма чисел, деленных на n без остатка \n",
    "    \"\"\"\n",
    "    p = target//n\n",
    "    return n*(p*(p+1))//2\n",
    "\n",
    "sum_divisible_by(n=3, target=999)+sum_divisible_by(n=5, target=999)-sum_divisible_by(n=15, target=999)"
   ]
  },
  {
   "cell_type": "code",
   "execution_count": 2,
   "id": "91760b2c-d737-4f60-85c0-541ec9807c46",
   "metadata": {},
   "outputs": [
    {
     "name": "stdout",
     "output_type": "stream",
     "text": [
      "Help on function sum_divisible_by in module __main__:\n",
      "\n",
      "sum_divisible_by(n: int, target: int) -> int\n",
      "    n:int - число на которое делится без остатка\n",
      "    target:int - до какого числа проверять\n",
      "    return:int - сумма чисел, деленных на n без остатка\n",
      "\n"
     ]
    }
   ],
   "source": [
    "help(sum_divisible_by)"
   ]
  },
  {
   "cell_type": "markdown",
   "id": "cfa83b5c-fafc-48f2-8a36-baab417986ba",
   "metadata": {},
   "source": [
    "## Задача №4\n",
    "2520 is the smallest number that can be divided by each of the numbers from 1 to 10 without any remainder.\n",
    "\n",
    "What is the smallest positive number that is evenly divisible by all of the numbers from 1 to 20?"
   ]
  },
  {
   "cell_type": "markdown",
   "id": "16e35fd7-3456-44b7-9220-00a9a91efa88",
   "metadata": {},
   "source": [
    "нам поможет формула\n",
    "$$lcm(a,b) = \\frac{|ab|}{gcd(a,b)}$$"
   ]
  },
  {
   "cell_type": "code",
   "execution_count": 86,
   "id": "3d1bdc31-8e16-4c4c-a3eb-7a53d0409293",
   "metadata": {},
   "outputs": [
    {
     "data": {
      "text/plain": [
       "232792560"
      ]
     },
     "execution_count": 86,
     "metadata": {},
     "output_type": "execute_result"
    }
   ],
   "source": [
    "import math\n",
    "math.lcm(*list(range(1,21)))"
   ]
  },
  {
   "cell_type": "markdown",
   "id": "32f34cfe-28cf-4fef-b240-ac5bff3e8121",
   "metadata": {},
   "source": [
    "## Задача 5\n",
    "Вводится трехзначное число. Написать программу, которая вычисляет сумму его цифр."
   ]
  },
  {
   "cell_type": "code",
   "execution_count": 96,
   "id": "c45c2752-a6a5-4612-b540-715fb4afbfa4",
   "metadata": {},
   "outputs": [
    {
     "data": {
      "text/plain": [
       "20"
      ]
     },
     "execution_count": 96,
     "metadata": {},
     "output_type": "execute_result"
    }
   ],
   "source": [
    "def int_to_digit(a):\n",
    "    sum_a= 0\n",
    "    while a>0:\n",
    "        sum_a+=a%10\n",
    "        a= a//10\n",
    "    return sum_a\n",
    "int_to_digit(56252)"
   ]
  },
  {
   "cell_type": "markdown",
   "id": "ddf89fc5-5b2e-4d8d-860c-ab2dce1dfa08",
   "metadata": {},
   "source": [
    "## Задача  №6 \n",
    "\n",
    "Найти корни квадратного уравнения "
   ]
  },
  {
   "cell_type": "code",
   "execution_count": 98,
   "id": "3d10f772-a251-4e31-8c79-4f6bb057fc09",
   "metadata": {},
   "outputs": [],
   "source": [
    "import math\n",
    "def square_root(a,b,c):\n",
    "    D = b**2-4*a*c\n",
    "    if D>0:\n",
    "        x1 = (-b+math.sqrt(D))/(2*a)\n",
    "        x2 = (-b-math.sqrt(D))/(2*a)\n",
    "    if D==0:\n",
    "        return -b/(2*a)\n",
    "    else:\n",
    "        return None"
   ]
  },
  {
   "cell_type": "markdown",
   "id": "dd2d33be-1b44-4fa9-9bee-8aef15ef2217",
   "metadata": {},
   "source": [
    "## Задача №7\n",
    "Определить, принадлежит ли точка с координатами (x; y) кругу радиуса R с центром в начале координат."
   ]
  },
  {
   "cell_type": "code",
   "execution_count": 102,
   "id": "aed6e77d-9695-476b-a314-f1a426f028e8",
   "metadata": {},
   "outputs": [
    {
     "name": "stdout",
     "output_type": "stream",
     "text": [
      "False\n",
      "True\n"
     ]
    }
   ],
   "source": [
    "from math import sqrt\n",
    "def is_in_R(x,y, R):\n",
    "    if sqrt(x**2+y**2)<=R:\n",
    "        return True\n",
    "    else:\n",
    "        return False\n",
    "print(is_in_R(3,4,4))\n",
    "print(is_in_R(3,4,5))"
   ]
  },
  {
   "cell_type": "markdown",
   "id": "d8be8218-1b54-45d7-82ad-e47d7c782169",
   "metadata": {},
   "source": [
    "## Задача №8\n",
    "Вычисление факториала"
   ]
  },
  {
   "cell_type": "code",
   "execution_count": 103,
   "id": "291bd2fb-8900-4aa5-a38b-b7c4a0541238",
   "metadata": {},
   "outputs": [
    {
     "data": {
      "text/plain": [
       "120"
      ]
     },
     "execution_count": 103,
     "metadata": {},
     "output_type": "execute_result"
    }
   ],
   "source": [
    "from math import factorial\n",
    "factorial(5)"
   ]
  },
  {
   "cell_type": "markdown",
   "id": "87d3cf97-b7d0-4662-8f88-92381ddc871f",
   "metadata": {},
   "source": [
    "## Задача №9\n",
    "Написать программу, которая переводит градусы по Цельсию в градусы по  Фаренгейту и в Кельвины"
   ]
  },
  {
   "cell_type": "code",
   "execution_count": 3,
   "id": "7c620430-5113-4af6-8788-fb602d5695bd",
   "metadata": {},
   "outputs": [
    {
     "name": "stdout",
     "output_type": "stream",
     "text": [
      "32.0\n"
     ]
    }
   ],
   "source": [
    "def T_converter(temperature:int, flag_to:str)->f:\n",
    "    \"\"\"\n",
    "    temperature:int  \n",
    "    flag_to:str (F- to Fahrenheit, C - to Celsius)\n",
    "    return:int\n",
    "    \"\"\"\n",
    "    if flag_to == 'F':\n",
    "        return temperature*9/5 + 32\n",
    "    elif flag_to == 'C':\n",
    "        return (temperature-32)*5/9\n",
    "print(T_converter(0, 'F'))"
   ]
  },
  {
   "cell_type": "markdown",
   "id": "ede56594-9913-455c-b378-fc1ec37f4d4b",
   "metadata": {},
   "source": [
    "## Задача №10\n",
    "В версте 500 саженей, в сажени 3 аршина, в аршине 4 пяди, в пяди 4 вершка. Вершок это 4,445 см. Напишите программу, которая покажет вам сколько сантиметров в пяди, аршине и сажени (с точностью до миллиметра) и с точностью до сантиметра сколько километров в версте."
   ]
  },
  {
   "cell_type": "code",
   "execution_count": 110,
   "id": "a6495c66-e9aa-4952-b889-9a6b89319a16",
   "metadata": {},
   "outputs": [
    {
     "name": "stdout",
     "output_type": "stream",
     "text": [
      "В пяди 17.78 см\n",
      " В аршине 71.12 см\n",
      " В сажени 213.36 см\n",
      "В версте 106680 см или  1.0668 км\n"
     ]
    }
   ],
   "source": [
    "vershok=4.445\n",
    "pad=4*vershok\n",
    "arshin=4*pad\n",
    "sajen=3*arshin\n",
    "versta=500*sajen\n",
    "\n",
    "print ('В пяди', pad, 'см\\n', 'В аршине', arshin, 'см\\n', 'В сажени', sajen, 'см')\n",
    "print ('В версте', int(versta), 'см или ', int(versta)/100000.0, 'км')\n"
   ]
  },
  {
   "cell_type": "code",
   "execution_count": null,
   "id": "00c74ad8-321d-4f98-b7fd-3a59ebe60459",
   "metadata": {},
   "outputs": [],
   "source": []
  }
 ],
 "metadata": {
  "kernelspec": {
   "display_name": "Python 3 (ipykernel)",
   "language": "python",
   "name": "python3"
  },
  "language_info": {
   "codemirror_mode": {
    "name": "ipython",
    "version": 3
   },
   "file_extension": ".py",
   "mimetype": "text/x-python",
   "name": "python",
   "nbconvert_exporter": "python",
   "pygments_lexer": "ipython3",
   "version": "3.9.12"
  },
  "toc-autonumbering": false
 },
 "nbformat": 4,
 "nbformat_minor": 5
}
